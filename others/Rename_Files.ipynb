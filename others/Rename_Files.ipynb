{
 "cells": [
  {
   "cell_type": "code",
   "execution_count": 15,
   "metadata": {},
   "outputs": [],
   "source": [
    "import os \n",
    "  \n",
    "os.chdir('/Users/adriensaremi/Music/Westworld Season 2 Soundtrack')\n",
    "os.getcwd()\n",
    "\n",
    "for count, filename in enumerate(os.listdir()[1:]): \n",
    "    fn_new = filename[4:]\n",
    "    os.rename(filename, fn_new)"
   ]
  }
 ],
 "metadata": {
  "kernelspec": {
   "display_name": "Python 3",
   "language": "python",
   "name": "python3"
  },
  "language_info": {
   "codemirror_mode": {
    "name": "ipython",
    "version": 3
   },
   "file_extension": ".py",
   "mimetype": "text/x-python",
   "name": "python",
   "nbconvert_exporter": "python",
   "pygments_lexer": "ipython3",
   "version": "3.7.3"
  }
 },
 "nbformat": 4,
 "nbformat_minor": 2
}
