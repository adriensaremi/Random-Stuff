{
 "cells": [
  {
   "cell_type": "markdown",
   "metadata": {},
   "source": [
    "# Datacamp Courses - Intermediate Finance\n",
    "\n",
    "Just basic handling of time-series dataframes, specially time conversion and data manipulation"
   ]
  },
  {
   "cell_type": "markdown",
   "metadata": {},
   "source": [
    "### Import packages"
   ]
  },
  {
   "cell_type": "code",
   "execution_count": 15,
   "metadata": {},
   "outputs": [],
   "source": [
    "import pandas as pd\n",
    "import matplotlib.pyplot as plt\n",
    "import numpy as np\n",
    "from datetime import *"
   ]
  },
  {
   "cell_type": "markdown",
   "metadata": {},
   "source": [
    "### datetime, timedelta"
   ]
  },
  {
   "cell_type": "code",
   "execution_count": 18,
   "metadata": {},
   "outputs": [],
   "source": [
    "# link to check for all org_format\n",
    "# https://strftime.org/"
   ]
  },
  {
   "cell_type": "code",
   "execution_count": 30,
   "metadata": {},
   "outputs": [
    {
     "name": "stdout",
     "output_type": "stream",
     "text": [
      "The year of black Monday: 1987\n",
      "Black Wednesday: 1992-09-16 00:00:00\n",
      "Wednesday, September 16, 1992\n",
      "Week before TARP: 2008-09-26 00:00:00\n"
     ]
    }
   ],
   "source": [
    "# format 1: just numbers\n",
    "black_monday = datetime(1987, 10, 19)\n",
    "print('The year of black Monday:', black_monday.year)\n",
    "\n",
    "# format 2: from a string\n",
    "org_text = \"Sep 16 1992\"\n",
    "org_format = \"%b %d %Y\"\n",
    "black_wednesday = datetime.strptime(org_text, org_format)\n",
    "print('Black Wednesday:',black_wednesday)\n",
    "\n",
    "# format 2': convert to a different string\n",
    "new_format = \"%A, %B %d, %Y\"\n",
    "black_wednesday_p = black_wednesday.strftime(new_format)\n",
    "print(black_wednesday_p)\n",
    "\n",
    "# format 3: use timedelta\n",
    "tarp = datetime(2008, 10, 3)\n",
    "week_before = tarp - timedelta(days = 7)\n",
    "print('Week before TARP:', week_before)"
   ]
  },
  {
   "cell_type": "markdown",
   "metadata": {},
   "source": [
    "### dictionary and cool Boolean tricks"
   ]
  },
  {
   "cell_type": "code",
   "execution_count": 32,
   "metadata": {},
   "outputs": [
    {
     "name": "stdout",
     "output_type": "stream",
     "text": [
      "GOOG\n",
      "{}\n"
     ]
    }
   ],
   "source": [
    "df = {}\n",
    "df['38259P706'] = 'GOOG'\n",
    "# print value of key. If missing, print 'MISSING'\n",
    "print(df.get('38259P706', 'MISSING'))\n",
    "# delete entry of dict\n",
    "del(df['38259P706'])\n",
    "print(df)"
   ]
  },
  {
   "cell_type": "code",
   "execution_count": 35,
   "metadata": {},
   "outputs": [
    {
     "name": "stdout",
     "output_type": "stream",
     "text": [
      "12\n",
      "0\n",
      "13\n",
      "12\n"
     ]
    }
   ],
   "source": [
    "print(13 and 12)\n",
    "print(0 and 12)\n",
    "print(13 or 12)\n",
    "print(0 or 12)"
   ]
  },
  {
   "cell_type": "code",
   "execution_count": null,
   "metadata": {},
   "outputs": [],
   "source": [
    "# df.describe(include = 'int' OR )\n",
    "# df.plot(x = 'co11', y = 'col2', kind = ..., title = 'title')"
   ]
  }
 ],
 "metadata": {
  "kernelspec": {
   "display_name": "Python 3",
   "language": "python",
   "name": "python3"
  },
  "language_info": {
   "codemirror_mode": {
    "name": "ipython",
    "version": 3
   },
   "file_extension": ".py",
   "mimetype": "text/x-python",
   "name": "python",
   "nbconvert_exporter": "python",
   "pygments_lexer": "ipython3",
   "version": "3.7.9"
  }
 },
 "nbformat": 4,
 "nbformat_minor": 4
}
